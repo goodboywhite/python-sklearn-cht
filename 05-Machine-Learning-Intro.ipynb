{
 "cells": [
  {
   "cell_type": "markdown",
   "metadata": {
    "slideshow": {
     "slide_type": "slide"
    }
   },
   "source": [
    "# Introduction to Scikit-Learn: Machine Learning with Python\n",
    "\n",
    "**Machine Learning Intro**\n",
    "\n",
    "郭耀仁"
   ]
  },
  {
   "cell_type": "markdown",
   "metadata": {
    "slideshow": {
     "slide_type": "slide"
    }
   },
   "source": [
    "## About Scikit-Learn"
   ]
  },
  {
   "cell_type": "markdown",
   "metadata": {
    "slideshow": {
     "slide_type": "subslide"
    }
   },
   "source": [
    "[Scikit-Learn](http://scikit-learn.org/stable/) is a Python package designed to give access to **well-known** machine learning algorithms within Python code, through a **clean, well-thought-out API**. It has been built by hundreds of contributors from around the world, and is used across industry and academia."
   ]
  },
  {
   "cell_type": "markdown",
   "metadata": {
    "slideshow": {
     "slide_type": "subslide"
    }
   },
   "source": [
    "Scikit-Learn is built upon Python's [NumPy (Numerical Python)](http://numpy.org) and [SciPy (Scientific Python)](http://scipy.org) libraries, which enable efficient in-core numerical and scientific computation within Python."
   ]
  },
  {
   "cell_type": "markdown",
   "metadata": {
    "slideshow": {
     "slide_type": "slide"
    }
   },
   "source": [
    "## What is Machine Learning?"
   ]
  },
  {
   "cell_type": "markdown",
   "metadata": {
    "slideshow": {
     "slide_type": "subslide"
    }
   },
   "source": [
    "Machine Learning is about building programs with **tunable parameters** (typically an\n",
    "array of floating point values) that are adjusted automatically so as to improve\n",
    "their behavior by **adapting to previously seen data.**"
   ]
  },
  {
   "cell_type": "markdown",
   "metadata": {
    "slideshow": {
     "slide_type": "subslide"
    }
   },
   "source": [
    "[Tom Mitchell](http://www.cs.cmu.edu/~tom/)\n",
    "> A computer program is said to learn from experience E with respect to some class of tasks T and performance measure P, if its performance at tasks in T, as measured by P, improves with experience E."
   ]
  },
  {
   "cell_type": "markdown",
   "metadata": {
    "slideshow": {
     "slide_type": "subslide"
    }
   },
   "source": [
    "Machine Learning can be considered a subfield of **Artificial Intelligence** since those\n",
    "algorithms can be seen as building blocks to make computers learn to behave more\n",
    "intelligently by somehow **generalizing** rather that just storing and retrieving data items\n",
    "like a database system would do."
   ]
  },
  {
   "cell_type": "markdown",
   "metadata": {
    "slideshow": {
     "slide_type": "subslide"
    }
   },
   "source": [
    "![](https://ingomierswacom.files.wordpress.com/2017/04/ai_ml_dl.jpg?w=676)\n",
    "\n",
    "Source: [rapidminer](https://rapidminer.com/artificial-intelligence-machine-learning-deep-learning/)"
   ]
  },
  {
   "cell_type": "markdown",
   "metadata": {
    "slideshow": {
     "slide_type": "subslide"
    }
   },
   "source": [
    "## Machine Learning is \n",
    "\n",
    "- Constructing/using algorithms that learn from data\n",
    "- Performing better with more information\n",
    "- Learning from previous solutions as experience "
   ]
  },
  {
   "cell_type": "markdown",
   "metadata": {
    "slideshow": {
     "slide_type": "subslide"
    }
   },
   "source": [
    "## Formulating Machine Learning\n",
    "\n",
    "- input -> Function($f$) -> output\n",
    "- input -> Estimated Function($\\hat{f}$) -> predicted output"
   ]
  },
  {
   "cell_type": "markdown",
   "metadata": {
    "slideshow": {
     "slide_type": "subslide"
    }
   },
   "source": [
    "## Machine Learning Topics\n",
    "\n",
    "- Supervised Learning\n",
    "    - Classification\n",
    "    - Regression\n",
    "- Unsupervised Learning\n",
    "    - Dimensionality Reduction\n",
    "    - Clustering"
   ]
  },
  {
   "cell_type": "markdown",
   "metadata": {
    "slideshow": {
     "slide_type": "subslide"
    }
   },
   "source": [
    "## Machine Learning Topics in Depth\n",
    "\n",
    "- Supervised Learning: Finding function $\\hat{f}$ which can be used to assign a class or value to unseen observations given a set of labeled observations.\n",
    "- Unsupervised Learning: Finding groups observation that are similar or using less vairiables to achieve similar predictability."
   ]
  },
  {
   "cell_type": "markdown",
   "metadata": {
    "slideshow": {
     "slide_type": "subslide"
    }
   },
   "source": [
    "## Machine Learning Topics in Depth\n",
    "\n",
    "- Supervised Learning: Finding function $\\hat{f}$ which can be used to assign a class or value to unseen observations given a set of labeled observations.\n",
    "- Unsupervised Learning: Finding groups observation that are similar or using less vairiables to achieve similar predictability."
   ]
  },
  {
   "cell_type": "markdown",
   "metadata": {
    "slideshow": {
     "slide_type": "subslide"
    }
   },
   "source": [
    "## Measuring performance\n",
    "\n",
    "- Supervised Learning: Comparing real labels with predicted labels, great performance means predictions should be similar to real labels\n",
    "- Unsupervised Learning: No real labels to compare"
   ]
  },
  {
   "cell_type": "markdown",
   "metadata": {
    "slideshow": {
     "slide_type": "slide"
    }
   },
   "source": [
    "## Representation of Data in Scikit-learn"
   ]
  },
  {
   "cell_type": "markdown",
   "metadata": {
    "slideshow": {
     "slide_type": "subslide"
    }
   },
   "source": [
    "## Machine learning is about\n",
    "\n",
    "- Creating models from data\n",
    "- How data can be represented in order to be understood by the computer?"
   ]
  },
  {
   "cell_type": "markdown",
   "metadata": {
    "slideshow": {
     "slide_type": "subslide"
    }
   },
   "source": [
    "## Two-dimensional array or matrix\n",
    "\n",
    "Most machine learning algorithms implemented in scikit-learn expect data to be stored in a\n",
    "**two-dimensional array or matrix**. The size of the array is expected to be `[m_samples, n_features]`"
   ]
  },
  {
   "cell_type": "markdown",
   "metadata": {
    "slideshow": {
     "slide_type": "subslide"
    }
   },
   "source": [
    "## m x n in general\n",
    "\n",
    "- **m_samples:**   The number of samples: each sample is an item to process (e.g. classify).\n",
    "  A sample can be a document, a picture, a sound, a video, an astronomical object,\n",
    "  a row in database or CSV file,\n",
    "  or whatever you can describe with a fixed set of quantitative traits.\n",
    "- **n_features:**  The number of features or distinct traits that can be used to describe each\n",
    "  item in a quantitative manner.  Features are generally real-valued, but may be boolean or\n",
    "  discrete-valued in some cases."
   ]
  },
  {
   "cell_type": "code",
   "execution_count": null,
   "metadata": {
    "slideshow": {
     "slide_type": "skip"
    }
   },
   "outputs": [],
   "source": [
    "%matplotlib inline\n",
    "import matplotlib.pyplot as plt\n",
    "fig = plt.figure(figsize=(6,  4))\n",
    "ax = fig.add_axes([0, 0, 1, 1])\n",
    "ax.axis('off')\n",
    "ax.axis('equal')\n",
    "\n",
    "# Draw features matrix\n",
    "ax.vlines(range(6), ymin=0, ymax=9, lw=1)\n",
    "ax.hlines(range(10), xmin=0, xmax=5, lw=1)\n",
    "font_prop = dict(size=12, family='monospace')\n",
    "ax.text(-1, -1, \"Feature Matrix ($X$)\", size=14)\n",
    "ax.text(0.1, -0.3, r'n_features $\\longrightarrow$', **font_prop)\n",
    "ax.text(-0.1, 0.1, r'$\\longleftarrow$ m_samples', rotation=90,\n",
    "        va='top', ha='right', **font_prop)\n",
    "\n",
    "# Draw labels vector\n",
    "ax.vlines(range(8, 10), ymin=0, ymax=9, lw=1)\n",
    "ax.hlines(range(10), xmin=8, xmax=9, lw=1)\n",
    "ax.text(7, -1, \"Target Vector ($y$)\", size=14)\n",
    "ax.text(7.9, 0.1, r'$\\longleftarrow$ m_samples', rotation=90,\n",
    "        va='top', ha='right', **font_prop)\n",
    "ax.set_ylim(10, -2)"
   ]
  },
  {
   "cell_type": "code",
   "execution_count": 1,
   "metadata": {
    "slideshow": {
     "slide_type": "subslide"
    }
   },
   "outputs": [
    {
     "data": {
      "image/png": "[encoded data removed]",
      "text/plain": [
       "<Figure size 432x288 with 1 Axes>"
      ]
     },
     "metadata": {
      "needs_background": "light"
     },
     "output_type": "display_data"
    }
   ],
   "source": [
    "plt.show()"
   ]
  },
  {
   "cell_type": "markdown",
   "metadata": {
    "slideshow": {
     "slide_type": "slide"
    }
   },
   "source": [
    "## Simple Examples: Getting Started with Kaggle\n",
    "\n",
    "We're going to take a look at the data hosted by Kaggle. Try extracting feature matrix and target vector from the following datasets:\n",
    "\n",
    "- House Prices: Advanced Regression Techniques\n",
    "- Titanic: Machine Learning from Disaster\n",
    "- Digit Recognizer"
   ]
  },
  {
   "cell_type": "markdown",
   "metadata": {
    "slideshow": {
     "slide_type": "subslide"
    }
   },
   "source": [
    "## Installing Kaggle Module"
   ]
  },
  {
   "cell_type": "code",
   "execution_count": 2,
   "metadata": {},
   "outputs": [
    {
     "name": "stdout",
     "output_type": "stream",
     "text": [
      "Requirement already satisfied: kaggle in /Users/kuoyaojen/anaconda3/lib/python3.7/site-packages (1.5.3)\n",
      "Requirement already satisfied: requests in /Users/kuoyaojen/anaconda3/lib/python3.7/site-packages (from kaggle) (2.21.0)\n",
      "Requirement already satisfied: certifi in /Users/kuoyaojen/anaconda3/lib/python3.7/site-packages (from kaggle) (2018.11.29)\n",
      "Requirement already satisfied: six>=1.10 in /Users/kuoyaojen/anaconda3/lib/python3.7/site-packages (from kaggle) (1.12.0)\n",
      "Requirement already satisfied: python-dateutil in /Users/kuoyaojen/anaconda3/lib/python3.7/site-packages (from kaggle) (2.7.5)\n",
      "Requirement already satisfied: urllib3<1.25,>=1.21.1 in /Users/kuoyaojen/anaconda3/lib/python3.7/site-packages (from kaggle) (1.24.1)\n",
      "Requirement already satisfied: tqdm in /Users/kuoyaojen/anaconda3/lib/python3.7/site-packages (from kaggle) (4.28.1)\n",
      "Requirement already satisfied: python-slugify in /Users/kuoyaojen/anaconda3/lib/python3.7/site-packages (from kaggle) (3.0.2)\n",
      "Requirement already satisfied: idna<2.9,>=2.5 in /Users/kuoyaojen/anaconda3/lib/python3.7/site-packages (from requests->kaggle) (2.8)\n",
      "Requirement already satisfied: chardet<3.1.0,>=3.0.2 in /Users/kuoyaojen/anaconda3/lib/python3.7/site-packages (from requests->kaggle) (3.0.4)\n",
      "Requirement already satisfied: text-unidecode==1.2 in /Users/kuoyaojen/anaconda3/lib/python3.7/site-packages (from python-slugify->kaggle) (1.2)\n"
     ]
    }
   ],
   "source": [
    "!pip install kaggle"
   ]
  },
  {
   "cell_type": "markdown",
   "metadata": {
    "slideshow": {
     "slide_type": "subslide"
    }
   },
   "source": [
    "## Creating New API Token\n",
    "\n",
    "- Register / Log in Kaggle\n",
    "- My Account\n",
    "- Create New API Token"
   ]
  },
  {
   "cell_type": "markdown",
   "metadata": {
    "slideshow": {
     "slide_type": "subslide"
    }
   },
   "source": [
    "## Using Kaggle API on Google Colab\n",
    "\n",
    "```python\n",
    "!mkdir /root/.kaggle\n",
    "import json\n",
    "token = {\"username\": \"YOUR-USERNAME\", \"key\": \"YOUR-KEY\"}\n",
    "with open('/root/.kaggle/kaggle.json', 'w') as file:\n",
    "    json.dump(token, file)\n",
    "!chmod 600 /root/.kaggle/kaggle.json\n",
    "```"
   ]
  },
  {
   "cell_type": "code",
   "execution_count": 3,
   "metadata": {
    "slideshow": {
     "slide_type": "subslide"
    }
   },
   "outputs": [
    {
     "name": "stdout",
     "output_type": "stream",
     "text": [
      "ref                                                          title                                                size  lastUpdated          downloadCount  \r\n",
      "-----------------------------------------------------------  --------------------------------------------------  -----  -------------------  -------------  \r\n",
      "ronitf/heart-disease-uci                                     Heart Disease UCI                                     3KB  2018-06-25 11:33:56          27773  \r\n",
      "karangadiya/fifa19                                           FIFA 19 complete player dataset                       2MB  2018-12-21 03:52:59          21716  \r\n",
      "iarunava/cell-images-for-detecting-malaria                   Malaria Cell Images Dataset                         337MB  2018-12-05 05:40:21           4379  \r\n",
      "bigquery/crypto-ethereum-classic                             Ethereum Classic Blockchain                          70GB  2019-03-20 23:21:25              0  \r\n",
      "jutrera/stanford-car-dataset-by-classes-folder               Stanford Car Dataset by classes folder                2GB  2018-07-02 07:35:45           2769  \r\n",
      "vjchoudhary7/customer-segmentation-tutorial-in-python        Mall Customer Segmentation Data                       2KB  2018-08-11 07:23:02           6845  \r\n",
      "russellyates88/suicide-rates-overview-1985-to-2016           Suicide Rates Overview 1985 to 2016                 396KB  2018-12-01 19:18:25          20324  \r\n",
      "rmisra/news-headlines-dataset-for-sarcasm-detection          News Headlines Dataset For Sarcasm Detection          2MB  2018-06-09 22:14:56           2556  \r\n",
      "lava18/google-play-store-apps                                Google Play Store Apps                                2MB  2019-02-03 13:55:47          48807  \r\n",
      "mohansacharya/graduate-admissions                            Graduate Admissions                                   9KB  2018-12-28 10:07:14          18344  \r\n",
      "jessicali9530/stanford-dogs-dataset                          Stanford Dogs Dataset                               735MB  2019-02-13 05:45:25           2480  \r\n",
      "anokas/kuzushiji                                             Kuzushiji-MNIST                                     318MB  2018-12-17 01:19:31            798  \r\n",
      "cityofLA/los-angeles-parking-citations                       Los Angeles Parking Citations                       257MB  2019-04-13 22:17:45           3032  \r\n",
      "noriuk/us-education-datasets-unification-project             U.S. Education Datasets: Unification Project         85MB  2019-03-02 18:41:52           3308  \r\n",
      "safegraph/visit-patterns-by-census-block-group               Consumer & Visitor Insights For Neighborhoods        66MB  2018-12-19 21:31:50           1303  \r\n",
      "safegraph/census-block-group-american-community-survey-data  Census Block Group American Community Survey Data     2GB  2018-12-22 00:29:56            707  \r\n",
      "jessicali9530/celeba-dataset                                 CelebFaces Attributes (CelebA) Dataset                1GB  2018-06-01 20:08:48           6412  \r\n",
      "pavansanagapati/urban-sound-classification                   Urban Sound Classification                            6GB  2018-06-16 13:44:36           2271  \r\n",
      "fivethirtyeight/fivethirtyeight-comic-characters-dataset     FiveThirtyEight Comic Characters Dataset            577KB  2019-03-26 15:01:15           2297  \r\n",
      "xvivancos/barcelona-data-sets                                Barcelona data sets                                   1MB  2018-12-13 14:16:53           3669  \r\n"
     ]
    }
   ],
   "source": [
    "!kaggle datasets list"
   ]
  },
  {
   "cell_type": "code",
   "execution_count": 4,
   "metadata": {
    "slideshow": {
     "slide_type": "subslide"
    }
   },
   "outputs": [
    {
     "name": "stdout",
     "output_type": "stream",
     "text": [
      "ref                                title                         size  lastUpdated          downloadCount  \r\n",
      "---------------------------------  ---------------------------  -----  -------------------  -------------  \r\n",
      "daavoo/3d-mnist                    3D MNIST                     154MB  2016-11-09 18:53:12           2471  \r\n",
      "datamunge/sign-language-mnist      Sign Language MNIST           31MB  2017-10-20 15:09:18           5690  \r\n",
      "kmader/skin-cancer-mnist-ham10000  Skin Cancer MNIST: HAM10000    3GB  2018-09-20 20:36:13           7400  \r\n",
      "zalando-research/fashionmnist      Fashion MNIST                 69MB  2017-12-07 00:54:20          28597  \r\n",
      "kmader/colorectal-histology-mnist  Colorectal Histology MNIST   991MB  2018-09-19 14:20:49            927  \r\n",
      "vikramtiwari/mnist-numpy           mnist.npz                     11MB  2018-06-29 01:59:44            445  \r\n",
      "oddrationale/mnist-in-csv          MNIST in CSV                  15MB  2018-05-19 02:24:20           4936  \r\n",
      "pablotab/mnistpklgz                mnist.pkl.gz                  15MB  2017-11-20 15:02:57            298  \r\n",
      "miningjerry/mnist-for-tf           mnist for tf                  15MB  2017-05-16 09:50:29             63  \r\n",
      "joewkim/mnist-data                 mnist data                    11MB  2017-11-07 19:39:08             66  \r\n",
      "backalla/words-mnist               Words MNIST                   47MB  2018-06-06 09:34:28            114  \r\n",
      "mustafaali96/mnist                 mnist.                        11MB  2018-05-10 22:18:24             44  \r\n",
      "crawford/emnist                    EMNIST (Extended MNIST)        1GB  2017-12-20 17:42:58           5887  \r\n",
      "ashishguptajiit/handwritten-az     Handwritten A-Z               92MB  2018-01-26 15:44:12            527  \r\n",
      "kevinv/mnist1                      mnist1                        15MB  2017-11-30 16:55:58              4  \r\n",
      "jwjohnson314/notmnist              notMNIST                     226MB  2018-02-14 19:52:14            607  \r\n",
      "anokas/kuzushiji                   Kuzushiji-MNIST              318MB  2018-12-17 01:19:31            798  \r\n",
      "farhanhubble/multimnistm2nist      Multidigit MNIST(M2NIST)      17MB  2018-07-16 12:05:34            161  \r\n",
      "lianglirong/mnistnpz               mnist.npz                     11MB  2018-09-16 12:44:43              6  \r\n",
      "zsx242030/mnistplk                 mnist.plk                     11MB  2018-10-06 03:59:01              0  \r\n"
     ]
    }
   ],
   "source": [
    "!kaggle datasets list -s MNIST"
   ]
  },
  {
   "cell_type": "markdown",
   "metadata": {
    "slideshow": {
     "slide_type": "subslide"
    }
   },
   "source": [
    "## House Prices: Advanced Regression Techniques\n",
    "\n",
    "<https://www.kaggle.com/c/house-prices-advanced-regression-techniques>"
   ]
  },
  {
   "cell_type": "code",
   "execution_count": 5,
   "metadata": {
    "slideshow": {
     "slide_type": "subslide"
    }
   },
   "outputs": [],
   "source": [
    "# Target Vector: SalePrice\n",
    "\n",
    "train_url = \"https://storage.googleapis.com/kaggle_datasets/House-Prices-Advanced-Regression-Techniques/train.csv\""
   ]
  },
  {
   "cell_type": "code",
   "execution_count": 6,
   "metadata": {
    "slideshow": {
     "slide_type": "subslide"
    }
   },
   "outputs": [
    {
     "name": "stdout",
     "output_type": "stream",
     "text": [
      "Downloading sample_submission.csv to /Users/kuoyaojen/python-sklearn-cht\n",
      "  0%|                                               | 0.00/31.2k [00:00<?, ?B/s]\n",
      "100%|███████████████████████████████████████| 31.2k/31.2k [00:00<00:00, 639kB/s]\n",
      "Downloading test.csv to /Users/kuoyaojen/python-sklearn-cht\n",
      "100%|████████████████████████████████████████| 441k/441k [00:00<00:00, 1.16MB/s]\n",
      "\n",
      "Downloading train.csv to /Users/kuoyaojen/python-sklearn-cht\n",
      "100%|████████████████████████████████████████| 450k/450k [00:00<00:00, 2.46MB/s]\n",
      "\n",
      "Downloading data_description.txt to /Users/kuoyaojen/python-sklearn-cht\n",
      "  0%|                                               | 0.00/13.1k [00:00<?, ?B/s]\n",
      "100%|██████████████████████████████████████| 13.1k/13.1k [00:00<00:00, 6.88MB/s]\n"
     ]
    }
   ],
   "source": [
    "# Or using Kaggle-API\n",
    "!kaggle competitions download -c house-prices-advanced-regression-techniques --force"
   ]
  },
  {
   "cell_type": "markdown",
   "metadata": {
    "slideshow": {
     "slide_type": "subslide"
    }
   },
   "source": [
    "## Titanic: Machine Learning from Disaster\n",
    "\n",
    "<https://www.kaggle.com/c/titanic>"
   ]
  },
  {
   "cell_type": "code",
   "execution_count": 7,
   "metadata": {
    "slideshow": {
     "slide_type": "subslide"
    }
   },
   "outputs": [],
   "source": [
    "# Target Vector: Survived\n",
    "\n",
    "train_url = \"https://storage.googleapis.com/kaggle_datasets/Titanic-Machine-Learning-from-Disaster/train.csv\""
   ]
  },
  {
   "cell_type": "code",
   "execution_count": 8,
   "metadata": {},
   "outputs": [
    {
     "name": "stdout",
     "output_type": "stream",
     "text": [
      "Downloading train.csv to /Users/kuoyaojen/python-sklearn-cht\n",
      "100%|███████████████████████████████████████| 59.8k/59.8k [00:00<00:00, 494kB/s]\n",
      "\n",
      "Downloading test.csv to /Users/kuoyaojen/python-sklearn-cht\n",
      "  0%|                                               | 0.00/28.0k [00:00<?, ?B/s]\n",
      "100%|██████████████████████████████████████| 28.0k/28.0k [00:00<00:00, 10.9MB/s]\n",
      "Downloading gender_submission.csv to /Users/kuoyaojen/python-sklearn-cht\n",
      "  0%|                                               | 0.00/3.18k [00:00<?, ?B/s]\n",
      "100%|██████████████████████████████████████| 3.18k/3.18k [00:00<00:00, 2.58MB/s]\n"
     ]
    }
   ],
   "source": [
    "# Or using Kaggle-API\n",
    "!kaggle competitions download -c titanic --force"
   ]
  },
  {
   "cell_type": "markdown",
   "metadata": {
    "slideshow": {
     "slide_type": "subslide"
    }
   },
   "source": [
    "## Digit Recognizer\n",
    "\n",
    "<https://www.kaggle.com/c/digit-recognizer>"
   ]
  },
  {
   "cell_type": "code",
   "execution_count": 9,
   "metadata": {
    "slideshow": {
     "slide_type": "subslide"
    }
   },
   "outputs": [],
   "source": [
    "# Target Vector: label\n",
    "\n",
    "train_url = \"https://storage.googleapis.com/kaggle_datasets/Digit-Recognizer/train.csv\""
   ]
  },
  {
   "cell_type": "code",
   "execution_count": 10,
   "metadata": {},
   "outputs": [
    {
     "name": "stdout",
     "output_type": "stream",
     "text": [
      "Downloading train.csv to /Users/kuoyaojen/python-sklearn-cht\n",
      "100%|█████████████████████████████████████▉| 73.0M/73.2M [00:40<00:00, 2.48MB/s]\n",
      "100%|██████████████████████████████████████| 73.2M/73.2M [00:40<00:00, 1.88MB/s]\n",
      "Downloading test.csv to /Users/kuoyaojen/python-sklearn-cht\n",
      "100%|██████████████████████████████████████| 48.8M/48.8M [00:13<00:00, 4.17MB/s]\n",
      "\n",
      "Downloading sample_submission.csv to /Users/kuoyaojen/python-sklearn-cht\n",
      "  0%|                                                | 0.00/235k [00:00<?, ?B/s]\n",
      "100%|████████████████████████████████████████| 235k/235k [00:00<00:00, 4.25MB/s]\n"
     ]
    }
   ],
   "source": [
    "# Or using Kaggle-API\n",
    "!kaggle competitions download -c digit-recognizer --force"
   ]
  },
  {
   "cell_type": "markdown",
   "metadata": {
    "slideshow": {
     "slide_type": "slide"
    }
   },
   "source": [
    "## The Scikit-learn Estimator Object"
   ]
  },
  {
   "cell_type": "markdown",
   "metadata": {
    "slideshow": {
     "slide_type": "subslide"
    }
   },
   "source": [
    "Every algorithm is exposed in scikit-learn via an ''Estimator'' object."
   ]
  },
  {
   "cell_type": "code",
   "execution_count": 11,
   "metadata": {
    "slideshow": {
     "slide_type": "-"
    }
   },
   "outputs": [],
   "source": [
    "import numpy as np\n",
    "import pandas as pd\n",
    "import matplotlib.pyplot as plt"
   ]
  },
  {
   "cell_type": "markdown",
   "metadata": {
    "slideshow": {
     "slide_type": "subslide"
    }
   },
   "source": [
    "Estimator parameters: All the parameters of an estimator can be set when it is instantiated, and have suitable default values:"
   ]
  },
  {
   "cell_type": "code",
   "execution_count": 12,
   "metadata": {
    "slideshow": {
     "slide_type": "-"
    }
   },
   "outputs": [
    {
     "name": "stdout",
     "output_type": "stream",
     "text": [
      "LinearRegression(copy_X=True, fit_intercept=True, n_jobs=None,\n",
      "         normalize=False)\n"
     ]
    }
   ],
   "source": [
    "from sklearn.linear_model import LinearRegression\n",
    "\n",
    "model = LinearRegression()\n",
    "print(model)"
   ]
  },
  {
   "cell_type": "markdown",
   "metadata": {
    "slideshow": {
     "slide_type": "subslide"
    }
   },
   "source": [
    "Estimated Model parameters: When data is fit with an estimator, parameters are estimated from the data at hand. All the estimated parameters are attributes of the estimator object ending by an underscore:"
   ]
  },
  {
   "cell_type": "code",
   "execution_count": 13,
   "metadata": {},
   "outputs": [
    {
     "name": "stdout",
     "output_type": "stream",
     "text": [
      "[18569.02585649]\n",
      "[[107.13035897]]\n"
     ]
    }
   ],
   "source": [
    "train_url = \"https://storage.googleapis.com/kaggle_datasets/House-Prices-Advanced-Regression-Techniques/train.csv\"\n",
    "train_df = pd.read_csv(train_url)\n",
    "X_train = train_df[\"GrLivArea\"].values.reshape(-1, 1)\n",
    "y_train = train_df[\"SalePrice\"].values.reshape(-1, 1)\n",
    "reg = LinearRegression()\n",
    "reg.fit(X_train, y_train)\n",
    "print(reg.intercept_)\n",
    "print(reg.coef_)"
   ]
  },
  {
   "cell_type": "code",
   "execution_count": null,
   "metadata": {
    "slideshow": {
     "slide_type": "subslide"
    }
   },
   "outputs": [],
   "source": [
    "xfit = np.linspace(X_train.min() - 10, X_train.max() + 10, 100).reshape(-1, 1)\n",
    "yfit = reg.predict(xfit)\n",
    "plt.scatter(train_df[\"GrLivArea\"], train_df[\"SalePrice\"], label='train', s=3, color=\"#4286f4\")\n",
    "plt.plot(xfit, yfit, color=\"#f4a041\", linewidth=2, label='thetas')\n",
    "plt.legend()"
   ]
  },
  {
   "cell_type": "code",
   "execution_count": 14,
   "metadata": {
    "slideshow": {
     "slide_type": "subslide"
    }
   },
   "outputs": [
    {
     "data": {
      "image/png": "[encoded data removed]",
      "text/plain": [
       "<Figure size 432x288 with 1 Axes>"
      ]
     },
     "metadata": {
      "needs_background": "light"
     },
     "output_type": "display_data"
    }
   ],
   "source": [
    "plt.show()"
   ]
  }
 ],
 "metadata": {
  "anaconda-cloud": {},
  "celltoolbar": "Slideshow",
  "kernelspec": {
   "display_name": "Python 3",
   "language": "python",
   "name": "python3"
  },
  "language_info": {
   "codemirror_mode": {
    "name": "ipython",
    "version": 3
   },
   "file_extension": ".py",
   "mimetype": "text/x-python",
   "name": "python",
   "nbconvert_exporter": "python",
   "pygments_lexer": "ipython3",
   "version": "3.7.1"
  }
 },
 "nbformat": 4,
 "nbformat_minor": 1
}
